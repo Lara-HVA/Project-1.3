{
 "cells": [
  {
   "cell_type": "code",
   "execution_count": 3,
   "id": "d5404961-eab7-4659-a58c-74e2e4f189c9",
   "metadata": {},
   "outputs": [],
   "source": [
    "#Deze comands importeren alle packeges die nodig zijn om de juiste functies te gebruiken\n",
    "import matplotlib.pyplot as plt\n",
    "import sounddevice as sd\n",
    "import numpy as np\n",
    "from mijngeluid import fft_partitioned"
   ]
  },
  {
   "cell_type": "code",
   "execution_count": 4,
   "id": "31ee44ef-3df3-4200-9e6b-b5a7a15f4d74",
   "metadata": {},
   "outputs": [
    {
     "data": {
      "text/plain": [
       "   0 Microsoft Sound Mapper - Input, MME (2 in, 0 out)\n",
       ">  1 Microphone Array (Intel® Smart , MME (4 in, 0 out)\n",
       "   2 Microsoft Sound Mapper - Output, MME (0 in, 2 out)\n",
       "<  3 Speakers (Realtek(R) Audio), MME (0 in, 2 out)\n",
       "   4 Hoofdtelefoon (), Windows WDM-KS (0 in, 2 out)\n",
       "   5 Microfoon (Realtek HD Audio Mic input), Windows WDM-KS (2 in, 0 out)\n",
       "   6 Speakers 1 (Realtek HD Audio output with SST), Windows WDM-KS (0 in, 2 out)\n",
       "   7 Speakers 2 (Realtek HD Audio output with SST), Windows WDM-KS (0 in, 2 out)\n",
       "   8 Pc-luidspreker (Realtek HD Audio output with SST), Windows WDM-KS (2 in, 0 out)\n",
       "   9 Headphones 1 (Realtek HD Audio 2nd output with SST), Windows WDM-KS (0 in, 2 out)\n",
       "  10 Headphones 2 (Realtek HD Audio 2nd output with SST), Windows WDM-KS (0 in, 2 out)\n",
       "  11 Pc-luidspreker (Realtek HD Audio 2nd output with SST), Windows WDM-KS (2 in, 0 out)\n",
       "  12 Stereo-mix (Realtek HD Audio Stereo input), Windows WDM-KS (2 in, 0 out)\n",
       "  13 Microfoonmatrix 1 (Intel® Smart Sound Technologie microfoon), Windows WDM-KS (2 in, 0 out)\n",
       "  14 Microfoonmatrix 2 (Intel® Smart Sound Technologie microfoon), Windows WDM-KS (4 in, 0 out)\n",
       "  15 Microfoonmatrix 3 (Intel® Smart Sound Technologie microfoon), Windows WDM-KS (4 in, 0 out)\n",
       "  16 Hoofdtelefoon (@System32\\drivers\\bthhfenum.sys,#2;%1 Hands-Free AG Audio%0\n",
       ";(AirPods van Lara)), Windows WDM-KS (0 in, 1 out)\n",
       "  17 Hoofdtelefoon (@System32\\drivers\\bthhfenum.sys,#2;%1 Hands-Free AG Audio%0\n",
       ";(AirPods van Lara)), Windows WDM-KS (1 in, 0 out)"
      ]
     },
     "execution_count": 4,
     "metadata": {},
     "output_type": "execute_result"
    }
   ],
   "source": [
    "sd.query_devices() #Laat zien welke audio appperaten aanwezig zijn op je laptop."
   ]
  },
  {
   "cell_type": "code",
   "execution_count": 14,
   "id": "88c808cb-be6b-435c-930a-68da2dba46fa",
   "metadata": {},
   "outputs": [
    {
     "data": {
      "text/plain": [
       "(264600, 2)"
      ]
     },
     "execution_count": 14,
     "metadata": {},
     "output_type": "execute_result"
    }
   ],
   "source": [
    "#Code om geluid op te nemen\n",
    "#fs is het aantal sampels per seconden\n",
    "fs = 44100\n",
    "\n",
    "#Hoelang de microfoon moet opnemen\n",
    "duration = 6\n",
    "\n",
    "#Defineer wat de arr word\n",
    "#sd.rec is een opneem comand, vervolgens worden het antal sampels dat moet worden opgenomen, dan heet aantal sampels per seconde,\n",
    "#dan hoeveel geluid golven, dan wat voor type geluid en welk apparaat moet gaan opnemen\n",
    "\n",
    "arr = sd.rec(int((duration * fs)), samplerate=fs, channels=2, dtype='float32', device=1)\n",
    "\n",
    "#wacht tot de opname klaar is\n",
    "sd.wait()\n",
    "\n",
    "#laat de vorm van de array zien\n",
    "arr.shape"
   ]
  },
  {
   "cell_type": "code",
   "execution_count": null,
   "id": "640b4d96-0d7e-4d3f-9a34-1585497b7d03",
   "metadata": {
    "tags": []
   },
   "outputs": [],
   "source": [
    "#Dit laat het opgenomen geluid afspelen\n",
    "sd.play(arr)"
   ]
  },
  {
   "cell_type": "code",
   "execution_count": 15,
   "id": "c05beccc-1fca-43cf-8645-65a7ece56ac9",
   "metadata": {},
   "outputs": [
    {
     "data": {
      "text/html": [
       "<div>\n",
       "<style scoped>\n",
       "    .dataframe tbody tr th:only-of-type {\n",
       "        vertical-align: middle;\n",
       "    }\n",
       "\n",
       "    .dataframe tbody tr th {\n",
       "        vertical-align: top;\n",
       "    }\n",
       "\n",
       "    .dataframe thead th {\n",
       "        text-align: right;\n",
       "    }\n",
       "</style>\n",
       "<table border=\"1\" class=\"dataframe\">\n",
       "  <thead>\n",
       "    <tr style=\"text-align: right;\">\n",
       "      <th></th>\n",
       "      <th>t</th>\n",
       "      <th>f</th>\n",
       "      <th>I</th>\n",
       "    </tr>\n",
       "  </thead>\n",
       "  <tbody>\n",
       "    <tr>\n",
       "      <th>100</th>\n",
       "      <td>0.01</td>\n",
       "      <td>10068.493151</td>\n",
       "      <td>1.280335e-06</td>\n",
       "    </tr>\n",
       "    <tr>\n",
       "      <th>100</th>\n",
       "      <td>0.02</td>\n",
       "      <td>10068.493151</td>\n",
       "      <td>6.848438e-07</td>\n",
       "    </tr>\n",
       "    <tr>\n",
       "      <th>100</th>\n",
       "      <td>0.03</td>\n",
       "      <td>10068.493151</td>\n",
       "      <td>2.394740e-06</td>\n",
       "    </tr>\n",
       "    <tr>\n",
       "      <th>100</th>\n",
       "      <td>0.04</td>\n",
       "      <td>10068.493151</td>\n",
       "      <td>1.275114e-06</td>\n",
       "    </tr>\n",
       "    <tr>\n",
       "      <th>100</th>\n",
       "      <td>0.05</td>\n",
       "      <td>10068.493151</td>\n",
       "      <td>1.092148e-06</td>\n",
       "    </tr>\n",
       "    <tr>\n",
       "      <th>...</th>\n",
       "      <td>...</td>\n",
       "      <td>...</td>\n",
       "      <td>...</td>\n",
       "    </tr>\n",
       "    <tr>\n",
       "      <th>100</th>\n",
       "      <td>5.96</td>\n",
       "      <td>10068.493151</td>\n",
       "      <td>1.944000e-05</td>\n",
       "    </tr>\n",
       "    <tr>\n",
       "      <th>100</th>\n",
       "      <td>5.97</td>\n",
       "      <td>10068.493151</td>\n",
       "      <td>2.357406e-06</td>\n",
       "    </tr>\n",
       "    <tr>\n",
       "      <th>100</th>\n",
       "      <td>5.98</td>\n",
       "      <td>10068.493151</td>\n",
       "      <td>5.214133e-06</td>\n",
       "    </tr>\n",
       "    <tr>\n",
       "      <th>100</th>\n",
       "      <td>5.99</td>\n",
       "      <td>10068.493151</td>\n",
       "      <td>1.125169e-05</td>\n",
       "    </tr>\n",
       "    <tr>\n",
       "      <th>100</th>\n",
       "      <td>6.00</td>\n",
       "      <td>10068.493151</td>\n",
       "      <td>1.369609e-05</td>\n",
       "    </tr>\n",
       "  </tbody>\n",
       "</table>\n",
       "<p>600 rows × 3 columns</p>\n",
       "</div>"
      ],
      "text/plain": [
       "        t             f             I\n",
       "100  0.01  10068.493151  1.280335e-06\n",
       "100  0.02  10068.493151  6.848438e-07\n",
       "100  0.03  10068.493151  2.394740e-06\n",
       "100  0.04  10068.493151  1.275114e-06\n",
       "100  0.05  10068.493151  1.092148e-06\n",
       "..    ...           ...           ...\n",
       "100  5.96  10068.493151  1.944000e-05\n",
       "100  5.97  10068.493151  2.357406e-06\n",
       "100  5.98  10068.493151  5.214133e-06\n",
       "100  5.99  10068.493151  1.125169e-05\n",
       "100  6.00  10068.493151  1.369609e-05\n",
       "\n",
       "[600 rows x 3 columns]"
      ]
     },
     "execution_count": 15,
     "metadata": {},
     "output_type": "execute_result"
    }
   ],
   "source": [
    "#df doet een fast fourier transformatie over de opname\n",
    "df = fft_partitioned(arr[:,0], fs, duration, t_bin=1e-2)\n",
    "\n",
    "#isoleert een bepaald freuentiebereik.\n",
    "df2 = df[df['f'].between(10000, 10100)] \n",
    "\n",
    "#laat df2 zien\n",
    "df2 "
   ]
  },
  {
   "cell_type": "code",
   "execution_count": 25,
   "id": "3aee1b72-1033-42f9-9acc-dabbe2dd22ed",
   "metadata": {},
   "outputs": [
    {
     "data": {
      "text/plain": [
       "Text(0, 0.5, 'Geluidssterkte [dB] ')"
      ]
     },
     "execution_count": 25,
     "metadata": {},
     "output_type": "execute_result"
    },
    {
     "data": {
      "image/png": "[encoded data removed]",
      "text/plain": [
       "<Figure size 432x288 with 1 Axes>"
      ]
     },
     "metadata": {
      "needs_background": "light"
     },
     "output_type": "display_data"
    }
   ],
   "source": [
    "#plot de grafiek met tijd tegenover gluidssterkte\n",
    "plt.plot(df2.t, 10 * np.log10(df2.I/10**-12), 'r-')\n",
    "\n",
    "#Maakt een rooster\n",
    "plt.grid()\n",
    "\n",
    "#limieteerd de x en y-as\n",
    "plt.ylim(60, 100)\n",
    "plt.xlim(1.1, 2)\n",
    "\n",
    "#veranderd de titel van de grafiek\n",
    "plt.title(r\"Verandering in geluidssterkter\")\n",
    "\n",
    "#Geeft de x en y-as een titel\n",
    "plt.xlabel(r\"Tijd $t$ [s]\")\n",
    "plt.ylabel(r\"Geluidssterkte [dB] \")"
   ]
  },
  {
   "cell_type": "code",
   "execution_count": null,
   "id": "cec03604-7f4b-4ce6-b90c-7c47ad267833",
   "metadata": {},
   "outputs": [],
   "source": []
  }
 ],
 "metadata": {
  "kernelspec": {
   "display_name": "Python 3",
   "language": "python",
   "name": "python3"
  },
  "language_info": {
   "codemirror_mode": {
    "name": "ipython",
    "version": 3
   },
   "file_extension": ".py",
   "mimetype": "text/x-python",
   "name": "python",
   "nbconvert_exporter": "python",
   "pygments_lexer": "ipython3",
   "version": "3.8.8"
  }
 },
 "nbformat": 4,
 "nbformat_minor": 5
}
